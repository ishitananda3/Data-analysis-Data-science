{
  "nbformat": 4,
  "nbformat_minor": 0,
  "metadata": {
    "colab": {
      "provenance": [],
      "authorship_tag": "ABX9TyNvz33vHQeeacPMP+feQJgW",
      "include_colab_link": true
    },
    "kernelspec": {
      "name": "python3",
      "display_name": "Python 3"
    },
    "language_info": {
      "name": "python"
    }
  },
  "cells": [
    {
      "cell_type": "markdown",
      "metadata": {
        "id": "view-in-github",
        "colab_type": "text"
      },
      "source": [
        "<a href=\"https://colab.research.google.com/github/ishitananda3/Data-analysis-of-iris-flower-set/blob/main/LLM_Company_Performance_Extractor.ipynb\" target=\"_parent\"><img src=\"https://colab.research.google.com/assets/colab-badge.svg\" alt=\"Open In Colab\"/></a>"
      ]
    },
    {
      "cell_type": "code",
      "execution_count": null,
      "metadata": {
        "colab": {
          "base_uri": "https://localhost:8080/",
          "height": 529
        },
        "id": "VtpXtmkKb4i7",
        "outputId": "e76c9e9b-0153-46f6-921b-20cb28417a59"
      },
      "outputs": [
        {
          "output_type": "stream",
          "name": "stdout",
          "text": [
            "Collecting openai==0.28.0\n",
            "  Downloading openai-0.28.0-py3-none-any.whl.metadata (13 kB)\n",
            "Requirement already satisfied: requests>=2.20 in /usr/local/lib/python3.10/dist-packages (from openai==0.28.0) (2.32.3)\n",
            "Requirement already satisfied: tqdm in /usr/local/lib/python3.10/dist-packages (from openai==0.28.0) (4.66.5)\n",
            "Requirement already satisfied: aiohttp in /usr/local/lib/python3.10/dist-packages (from openai==0.28.0) (3.10.5)\n",
            "Requirement already satisfied: charset-normalizer<4,>=2 in /usr/local/lib/python3.10/dist-packages (from requests>=2.20->openai==0.28.0) (3.3.2)\n",
            "Requirement already satisfied: idna<4,>=2.5 in /usr/local/lib/python3.10/dist-packages (from requests>=2.20->openai==0.28.0) (3.8)\n",
            "Requirement already satisfied: urllib3<3,>=1.21.1 in /usr/local/lib/python3.10/dist-packages (from requests>=2.20->openai==0.28.0) (2.0.7)\n",
            "Requirement already satisfied: certifi>=2017.4.17 in /usr/local/lib/python3.10/dist-packages (from requests>=2.20->openai==0.28.0) (2024.8.30)\n",
            "Requirement already satisfied: aiohappyeyeballs>=2.3.0 in /usr/local/lib/python3.10/dist-packages (from aiohttp->openai==0.28.0) (2.4.0)\n",
            "Requirement already satisfied: aiosignal>=1.1.2 in /usr/local/lib/python3.10/dist-packages (from aiohttp->openai==0.28.0) (1.3.1)\n",
            "Requirement already satisfied: attrs>=17.3.0 in /usr/local/lib/python3.10/dist-packages (from aiohttp->openai==0.28.0) (24.2.0)\n",
            "Requirement already satisfied: frozenlist>=1.1.1 in /usr/local/lib/python3.10/dist-packages (from aiohttp->openai==0.28.0) (1.4.1)\n",
            "Requirement already satisfied: multidict<7.0,>=4.5 in /usr/local/lib/python3.10/dist-packages (from aiohttp->openai==0.28.0) (6.0.5)\n",
            "Requirement already satisfied: yarl<2.0,>=1.0 in /usr/local/lib/python3.10/dist-packages (from aiohttp->openai==0.28.0) (1.9.4)\n",
            "Requirement already satisfied: async-timeout<5.0,>=4.0 in /usr/local/lib/python3.10/dist-packages (from aiohttp->openai==0.28.0) (4.0.3)\n",
            "Downloading openai-0.28.0-py3-none-any.whl (76 kB)\n",
            "\u001b[2K   \u001b[90m━━━━━━━━━━━━━━━━━━━━━━━━━━━━━━━━━━━━━━━━\u001b[0m \u001b[32m76.5/76.5 kB\u001b[0m \u001b[31m1.3 MB/s\u001b[0m eta \u001b[36m0:00:00\u001b[0m\n",
            "\u001b[?25hInstalling collected packages: openai\n",
            "  Attempting uninstall: openai\n",
            "    Found existing installation: openai 1.44.0\n",
            "    Uninstalling openai-1.44.0:\n",
            "      Successfully uninstalled openai-1.44.0\n",
            "Successfully installed openai-0.28.0\n"
          ]
        },
        {
          "output_type": "display_data",
          "data": {
            "application/vnd.colab-display-data+json": {
              "pip_warning": {
                "packages": [
                  "openai"
                ]
              },
              "id": "37b1eb6cf15e46cab40c2064a99fc0a7"
            }
          },
          "metadata": {}
        }
      ],
      "source": [
        "pip install openai==0.28.0"
      ]
    },
    {
      "cell_type": "code",
      "source": [
        "# Imports and API Setup\n",
        "\n",
        "import openai\n",
        "import datetime\n",
        "import json\n",
        "\n",
        "# Set your API key here\n",
        "openai.api_key = 'your_open_api_key'\n"
      ],
      "metadata": {
        "id": "aWbN8BNgID2i"
      },
      "execution_count": null,
      "outputs": []
    },
    {
      "cell_type": "code",
      "source": [
        "# Date Handling Functions\n",
        "\n",
        "def get_default_dates():\n",
        "    end_date = datetime.date.today()\n",
        "    start_date = end_date - datetime.timedelta(days=365)\n",
        "    return start_date, end_date\n",
        "\n",
        "def convert_to_iso(date_str):\n",
        "    # Ensure the date is in the correct format (YYYY-MM-DD)\n",
        "    return date_str.isoformat()\n"
      ],
      "metadata": {
        "id": "7-VyZq6RIi6a"
      },
      "execution_count": null,
      "outputs": []
    },
    {
      "cell_type": "code",
      "source": [
        "#Querying OpenAI for Information Extraction\n",
        "\n",
        "def extract_information_from_query(query):\n",
        "    response = openai.Completion.create(\n",
        "        engine=\"gpt-3.5-turbo\", # or \"gpt-3.5-turbo\" depending on your access\n",
        "        prompt=f\"Extract the following information from this query: {query}. Information: Company name, metric (e.g., revenue, profit), start date, end date.\",\n",
        "        max_tokens=150\n",
        "    )\n",
        "\n",
        "    # Process the GPT output here\n",
        "    return response['choices'][0]['text']\n"
      ],
      "metadata": {
        "id": "S_EZnY32ItpP"
      },
      "execution_count": null,
      "outputs": []
    },
    {
      "cell_type": "code",
      "source": [
        "# Handling Variations in Queries\n",
        "\n",
        "def parse_llm_response(response_text):\n",
        "    # Parse the GPT response for necessary fields\n",
        "    company_name = None\n",
        "    metric = None\n",
        "    start_date = None\n",
        "    end_date = None\n",
        "\n",
        "    # Use simple text parsing for now (could improve with regex or NLP tools)\n",
        "    # Ideally, GPT's output is clean and structured like:\n",
        "    # Company: Amazon\n",
        "    # Metric: revenue\n",
        "    # Start Date: 2023-01-01\n",
        "    # End Date: 2023-12-31\n",
        "\n",
        "    for line in response_text.split(\"\\n\"):\n",
        "        if \"Company\" in line:\n",
        "            company_name = line.split(\":\")[1].strip()\n",
        "        elif \"Metric\" in line:\n",
        "            metric = line.split(\":\")[1].strip()\n",
        "        elif \"Start Date\" in line:\n",
        "            start_date = line.split(\":\")[1].strip()\n",
        "        elif \"End Date\" in line:\n",
        "            end_date = line.split(\":\")[1].strip()\n",
        "\n",
        "    return company_name, metric, start_date, end_date\n"
      ],
      "metadata": {
        "id": "xRXQEUFRJGtP"
      },
      "execution_count": null,
      "outputs": []
    },
    {
      "cell_type": "code",
      "source": [
        "#Handling Missing Dates and Formatting\n",
        "\n",
        "def handle_missing_dates(start_date, end_date):\n",
        "    if not start_date or not end_date:\n",
        "        default_start, default_end = get_default_dates()\n",
        "        start_date = start_date or convert_to_iso(default_start)\n",
        "        end_date = end_date or convert_to_iso(default_end)\n",
        "    return start_date, end_date\n"
      ],
      "metadata": {
        "id": "U46CzWnNJQDR"
      },
      "execution_count": null,
      "outputs": []
    },
    {
      "cell_type": "code",
      "source": [
        "#Converting the Extracted Information to JSON\n",
        "\n",
        "def format_as_json(company_name, metric, start_date, end_date):\n",
        "    data = {\n",
        "        \"entity\": company_name,\n",
        "        \"parameter\": metric,\n",
        "        \"start_date\": start_date,\n",
        "        \"end_date\": end_date\n",
        "    }\n",
        "    return json.dumps(data, indent=4)\n"
      ],
      "metadata": {
        "id": "qTKPBLuiJZu1"
      },
      "execution_count": null,
      "outputs": []
    },
    {
      "cell_type": "code",
      "source": [
        "# Main Function to Process User Query\n",
        "\n",
        "def process_query(query):\n",
        "    # Call GPT to get the response\n",
        "    response = extract_information_from_query(query)\n",
        "\n",
        "    # Parse the response to extract the information\n",
        "    company_name, metric, start_date, end_date = parse_llm_response(response)\n",
        "\n",
        "    # Handle missing dates (defaults to past year)\n",
        "    start_date, end_date = handle_missing_dates(start_date, end_date)\n",
        "\n",
        "    # Format the information as JSON\n",
        "    output_json = format_as_json(company_name, metric, start_date, end_date)\n",
        "    return output_json\n"
      ],
      "metadata": {
        "id": "nO8N8zZwJiMS"
      },
      "execution_count": null,
      "outputs": []
    },
    {
      "cell_type": "code",
      "source": [
        "query = \"Can you show me the revenue of Amazon from the last quarter?\"\n",
        "print(process_query(query))"
      ],
      "metadata": {
        "id": "QSJFvKlxLp3P"
      },
      "execution_count": null,
      "outputs": []
    }
  ]
}