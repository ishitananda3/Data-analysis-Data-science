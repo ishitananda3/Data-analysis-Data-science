{
  "nbformat": 4,
  "nbformat_minor": 0,
  "metadata": {
    "colab": {
      "provenance": [],
      "authorship_tag": "ABX9TyOQ6gy3g78+cS8UsplspIVe",
      "include_colab_link": true
    },
    "kernelspec": {
      "name": "python3",
      "display_name": "Python 3"
    },
    "language_info": {
      "name": "python"
    }
  },
  "cells": [
    {
      "cell_type": "markdown",
      "metadata": {
        "id": "view-in-github",
        "colab_type": "text"
      },
      "source": [
        "<a href=\"https://colab.research.google.com/github/ishitananda3/Data-analysis-Data-science/blob/main/Booking_data_analyst.ipynb\" target=\"_parent\"><img src=\"https://colab.research.google.com/assets/colab-badge.svg\" alt=\"Open In Colab\"/></a>"
      ]
    },
    {
      "cell_type": "markdown",
      "source": [
        "**Step 1: Load the dataset**"
      ],
      "metadata": {
        "id": "nybDuFqrEr3J"
      }
    },
    {
      "cell_type": "code",
      "execution_count": null,
      "metadata": {
        "id": "TJ-gARRXEAGF"
      },
      "outputs": [],
      "source": [
        "import numpy as np\n",
        "import pandas as pd\n",
        "\n",
        "df=pd.read_excel(\"DataAnalyst_Assesment_Dataset.xlsx\")"
      ]
    },
    {
      "cell_type": "markdown",
      "source": [
        "**Step 2: Initial data inspection**"
      ],
      "metadata": {
        "id": "xQLuNd0NErzw"
      }
    },
    {
      "cell_type": "code",
      "source": [
        "# display first 5 rows\n",
        "print(df.head())"
      ],
      "metadata": {
        "colab": {
          "base_uri": "https://localhost:8080/"
        },
        "id": "ktee3yNXFkPa",
        "outputId": "1ad7a120-0d3d-44f1-bbba-002ccb1b1a93"
      },
      "execution_count": null,
      "outputs": [
        {
          "output_type": "stream",
          "name": "stdout",
          "text": [
            "                             Booking ID                           Customer ID  \\\n",
            "0  279d92c6-ce26-47c0-8915-e45b77fe20e2  00901ce3-3d86-4c97-bca2-40ccac2fb99f   \n",
            "1  415bfcbe-1a2e-4d4b-809a-4c5b606653b1  b82db986-bd52-4b07-bdd8-aa8cf2016241   \n",
            "2  2100024b-46fc-47b5-ac1c-047d007a4723  6bbb6e83-9577-4f64-80b0-f073132d18f3   \n",
            "3  74936def-088f-4d34-bad1-dfa76f78b704  f16f5beb-6a7d-4493-a19e-a30dbbd206e9   \n",
            "4  6272b4e7-a508-4ed7-bae0-21f7293287a8  eb297435-93d1-4e65-8dd4-6450922305cb   \n",
            "\n",
            "  Customer Name    Booking Type Booking Date     Status Class Type Instructor  \\\n",
            "0    Customer 1        Facility   2025-05-30    Pending        NaN        NaN   \n",
            "1    Customer 2  Birthday Party   2025-05-29    Pending        NaN        NaN   \n",
            "2    Customer 3  Birthday Party   2025-05-09  Confirmed        NaN        NaN   \n",
            "3    Customer 4  Birthday Party   2025-06-07    Pending        NaN        NaN   \n",
            "4    Customer 5           Class   2025-04-13    Pending        Art        NaN   \n",
            "\n",
            "  Time Slot  Duration (mins)   Price    Facility      Theme  \\\n",
            "0  10:00:00             90.0   42.74  Party Room        NaN   \n",
            "1       NaN              NaN  182.06  Party Room  Superhero   \n",
            "2  11:00:00            120.0  207.50   Play Area        NaN   \n",
            "3  12:00:00             90.0  203.20   Play Area        NaN   \n",
            "4  15:00:00            120.0  161.14         NaN        NaN   \n",
            "\n",
            "   Subscription Type Service Name    Service Type         Customer Email  \\\n",
            "0                NaN   Party Room        Facility  customer1@example.com   \n",
            "1                NaN   Party Room  Birthday Party  customer2@example.com   \n",
            "2                NaN    Play Area        Facility  customer3@example.com   \n",
            "3                NaN    Play Area  Birthday Party  customer4@example.com   \n",
            "4                NaN          Art           Class  customer5@example.com   \n",
            "\n",
            "  Customer Phone  \n",
            "0   001-730-9034  \n",
            "1   001-537-5668  \n",
            "2   001-880-7769  \n",
            "3   001-491-3107  \n",
            "4   001-718-3794  \n"
          ]
        }
      ]
    },
    {
      "cell_type": "code",
      "source": [
        "# check col names and datatype\n",
        "print(df.info())"
      ],
      "metadata": {
        "colab": {
          "base_uri": "https://localhost:8080/"
        },
        "id": "peioEuq1Fyer",
        "outputId": "7e5a8acc-1cb0-41f5-8fd8-44404c7e1ec7"
      },
      "execution_count": null,
      "outputs": [
        {
          "output_type": "stream",
          "name": "stdout",
          "text": [
            "<class 'pandas.core.frame.DataFrame'>\n",
            "RangeIndex: 1000 entries, 0 to 999\n",
            "Data columns (total 18 columns):\n",
            " #   Column             Non-Null Count  Dtype         \n",
            "---  ------             --------------  -----         \n",
            " 0   Booking ID         1000 non-null   object        \n",
            " 1   Customer ID        1000 non-null   object        \n",
            " 2   Customer Name      1000 non-null   object        \n",
            " 3   Booking Type       1000 non-null   object        \n",
            " 4   Booking Date       1000 non-null   datetime64[ns]\n",
            " 5   Status             1000 non-null   object        \n",
            " 6   Class Type         328 non-null    object        \n",
            " 7   Instructor         270 non-null    object        \n",
            " 8   Time Slot          795 non-null    object        \n",
            " 9   Duration (mins)    795 non-null    float64       \n",
            " 10  Price              1000 non-null   float64       \n",
            " 11  Facility           672 non-null    object        \n",
            " 12  Theme              273 non-null    object        \n",
            " 13  Subscription Type  0 non-null      float64       \n",
            " 14  Service Name       1000 non-null   object        \n",
            " 15  Service Type       1000 non-null   object        \n",
            " 16  Customer Email     906 non-null    object        \n",
            " 17  Customer Phone     895 non-null    object        \n",
            "dtypes: datetime64[ns](1), float64(3), object(14)\n",
            "memory usage: 140.8+ KB\n",
            "None\n"
          ]
        }
      ]
    },
    {
      "cell_type": "code",
      "source": [
        "# summary of numeric cols\n",
        "print(df.describe())"
      ],
      "metadata": {
        "colab": {
          "base_uri": "https://localhost:8080/"
        },
        "id": "8DKv_C9mHVS1",
        "outputId": "d73e726c-e7f7-4f28-90b3-4b4b04740b97"
      },
      "execution_count": null,
      "outputs": [
        {
          "output_type": "stream",
          "name": "stdout",
          "text": [
            "                        Booking Date  Duration (mins)        Price  \\\n",
            "count                           1000       795.000000  1000.000000   \n",
            "mean   2025-05-07 17:08:09.600000256        84.415094   139.477210   \n",
            "min              2025-03-25 00:00:00        45.000000     0.000000   \n",
            "25%              2025-04-14 00:00:00        45.000000    58.090000   \n",
            "50%              2025-05-08 00:00:00        90.000000   137.355000   \n",
            "75%              2025-05-31 00:00:00       120.000000   219.897500   \n",
            "max              2025-06-22 00:00:00       120.000000   299.760000   \n",
            "std                              NaN        30.383838    92.239835   \n",
            "\n",
            "       Subscription Type  \n",
            "count                0.0  \n",
            "mean                 NaN  \n",
            "min                  NaN  \n",
            "25%                  NaN  \n",
            "50%                  NaN  \n",
            "75%                  NaN  \n",
            "max                  NaN  \n",
            "std                  NaN  \n"
          ]
        }
      ]
    },
    {
      "cell_type": "code",
      "source": [
        "# check the missing values\n",
        "print(df.isnull().sum())"
      ],
      "metadata": {
        "colab": {
          "base_uri": "https://localhost:8080/"
        },
        "id": "HVs_8Oz5HcwH",
        "outputId": "c55d9649-19e9-4cee-edbc-898702627201"
      },
      "execution_count": null,
      "outputs": [
        {
          "output_type": "stream",
          "name": "stdout",
          "text": [
            "Booking ID              0\n",
            "Customer ID             0\n",
            "Customer Name           0\n",
            "Booking Type            0\n",
            "Booking Date            0\n",
            "Status                  0\n",
            "Class Type            672\n",
            "Instructor            730\n",
            "Time Slot             205\n",
            "Duration (mins)       205\n",
            "Price                   0\n",
            "Facility              328\n",
            "Theme                 727\n",
            "Subscription Type    1000\n",
            "Service Name            0\n",
            "Service Type            0\n",
            "Customer Email         94\n",
            "Customer Phone        105\n",
            "dtype: int64\n"
          ]
        }
      ]
    },
    {
      "cell_type": "markdown",
      "source": [
        "**Step 3: Handle missing values**"
      ],
      "metadata": {
        "id": "Px-qDPLVHsHl"
      }
    },
    {
      "cell_type": "code",
      "source": [
        "# Fill 'Duration (mins)' with median\n",
        "df[\"Duration (mins)\"] = df[\"Duration (mins)\"].fillna(df[\"Duration (mins)\"].median())\n",
        "print(df['Duration (mins)'])"
      ],
      "metadata": {
        "colab": {
          "base_uri": "https://localhost:8080/"
        },
        "id": "r5g4PZR8HvF6",
        "outputId": "4f7b158c-53d5-4ed3-a624-f96e886e2277"
      },
      "execution_count": null,
      "outputs": [
        {
          "output_type": "stream",
          "name": "stdout",
          "text": [
            "0       90.0\n",
            "1       90.0\n",
            "2      120.0\n",
            "3       90.0\n",
            "4      120.0\n",
            "       ...  \n",
            "995     90.0\n",
            "996     90.0\n",
            "997    120.0\n",
            "998    120.0\n",
            "999    120.0\n",
            "Name: Duration (mins), Length: 1000, dtype: float64\n"
          ]
        }
      ]
    },
    {
      "cell_type": "code",
      "source": [
        "# handle missing values for categorical cols\n",
        "# for 'Class Type' if no type mentioned, we can use 'Not specified'\n",
        "df[\"Class Type\"] = df[\"Class Type\"].fillna(\"Not specified\")\n",
        "print(df['Class Type'])"
      ],
      "metadata": {
        "colab": {
          "base_uri": "https://localhost:8080/"
        },
        "id": "kX6RhphDKGBC",
        "outputId": "669d786f-ed6e-45b1-ed3d-4c24b7fd0865"
      },
      "execution_count": null,
      "outputs": [
        {
          "output_type": "stream",
          "name": "stdout",
          "text": [
            "0      Not specified\n",
            "1      Not specified\n",
            "2      Not specified\n",
            "3      Not specified\n",
            "4                Art\n",
            "           ...      \n",
            "995    Not specified\n",
            "996              Art\n",
            "997    Not specified\n",
            "998    Not specified\n",
            "999    Not specified\n",
            "Name: Class Type, Length: 1000, dtype: object\n"
          ]
        }
      ]
    },
    {
      "cell_type": "code",
      "source": [
        "# for 'Instructor', if nonoe is mentioned, we can use \"Unknown\"\n",
        "df[\"Instructor\"]=df['Instructor'].fillna('Unknown')\n",
        "print(df['Instructor'])"
      ],
      "metadata": {
        "colab": {
          "base_uri": "https://localhost:8080/"
        },
        "id": "Ft8ASv-SK82I",
        "outputId": "ae83e053-a493-4657-8336-344150ce9ccc"
      },
      "execution_count": null,
      "outputs": [
        {
          "output_type": "stream",
          "name": "stdout",
          "text": [
            "0           Unknown\n",
            "1           Unknown\n",
            "2           Unknown\n",
            "3           Unknown\n",
            "4           Unknown\n",
            "           ...     \n",
            "995         Unknown\n",
            "996    James Howard\n",
            "997         Unknown\n",
            "998         Unknown\n",
            "999         Unknown\n",
            "Name: Instructor, Length: 1000, dtype: object\n"
          ]
        }
      ]
    },
    {
      "cell_type": "code",
      "source": [
        "# similarly, for 'facility', we can use 'other'\n",
        "df[\"Facility\"]=df['Facility'].fillna('other')\n",
        "print(df['Facility'])\n",
        "\n",
        "# for 'Theme', we can use \"None\"\n",
        "df[\"Theme\"]=df['Theme'].fillna('None')\n",
        "print(df['Theme'])\n",
        "\n",
        "# for \"subscription type\", drop the col since all values are missing\n",
        "df.drop(\"Subscription Type\", axis=1, inplace=True)"
      ],
      "metadata": {
        "colab": {
          "base_uri": "https://localhost:8080/"
        },
        "id": "ZJgc9gfMLW-L",
        "outputId": "bd06e0dd-8f6c-4abe-fbde-c45f3fd759d8"
      },
      "execution_count": null,
      "outputs": [
        {
          "output_type": "stream",
          "name": "stdout",
          "text": [
            "0      Party Room\n",
            "1      Party Room\n",
            "2       Play Area\n",
            "3       Play Area\n",
            "4           other\n",
            "          ...    \n",
            "995    Party Room\n",
            "996         other\n",
            "997    Party Room\n",
            "998    Party Room\n",
            "999     Play Area\n",
            "Name: Facility, Length: 1000, dtype: object\n",
            "0           None\n",
            "1      Superhero\n",
            "2           None\n",
            "3           None\n",
            "4           None\n",
            "         ...    \n",
            "995     Princess\n",
            "996         None\n",
            "997         None\n",
            "998         None\n",
            "999         None\n",
            "Name: Theme, Length: 1000, dtype: object\n"
          ]
        }
      ]
    },
    {
      "cell_type": "code",
      "source": [
        "print(df.isnull().sum())"
      ],
      "metadata": {
        "colab": {
          "base_uri": "https://localhost:8080/"
        },
        "id": "MNgiPYj4MIa8",
        "outputId": "25683106-472e-4a3d-82e9-0a54ecbd9290"
      },
      "execution_count": null,
      "outputs": [
        {
          "output_type": "stream",
          "name": "stdout",
          "text": [
            "Booking ID           0\n",
            "Customer ID          0\n",
            "Customer Name        0\n",
            "Booking Type         0\n",
            "Booking Date         0\n",
            "Status               0\n",
            "Class Type           0\n",
            "Instructor           0\n",
            "Time Slot          205\n",
            "Duration (mins)      0\n",
            "Price                0\n",
            "Facility             0\n",
            "Theme                0\n",
            "Service Name         0\n",
            "Service Type         0\n",
            "Customer Email      94\n",
            "Customer Phone     105\n",
            "dtype: int64\n"
          ]
        }
      ]
    },
    {
      "cell_type": "code",
      "source": [
        "# for timeslot, we can use 'Not recorded'\n",
        "df[\"Time Slot\"]=df['Time Slot'].fillna('Not recorded')\n",
        "print(df['Time Slot'])\n",
        "\n",
        "# For Customer Email, we use \"No Email\"\n",
        "df[\"Customer Email\"]=df['Customer Email'].fillna('No Email')\n",
        "print(df['Customer Email'])\n",
        "\n",
        "# for customer phone, we use \"Bo Phone\"\n",
        "df[\"Customer Phone\"]=df['Customer Phone'].fillna('No Phone')\n",
        "print(df['Customer Phone'])"
      ],
      "metadata": {
        "colab": {
          "base_uri": "https://localhost:8080/"
        },
        "id": "5gYb3LneMpjL",
        "outputId": "7c844956-8315-4bf1-e8ea-182bc8a2b0fc"
      },
      "execution_count": null,
      "outputs": [
        {
          "output_type": "stream",
          "name": "stdout",
          "text": [
            "0          10:00:00\n",
            "1      Not recorded\n",
            "2          11:00:00\n",
            "3          12:00:00\n",
            "4          15:00:00\n",
            "           ...     \n",
            "995    Not recorded\n",
            "996    Not recorded\n",
            "997        17:00:00\n",
            "998        12:00:00\n",
            "999        16:00:00\n",
            "Name: Time Slot, Length: 1000, dtype: object\n",
            "0         customer1@example.com\n",
            "1         customer2@example.com\n",
            "2         customer3@example.com\n",
            "3         customer4@example.com\n",
            "4         customer5@example.com\n",
            "                 ...           \n",
            "995     customer996@example.com\n",
            "996     customer997@example.com\n",
            "997     customer998@example.com\n",
            "998     customer999@example.com\n",
            "999    customer1000@example.com\n",
            "Name: Customer Email, Length: 1000, dtype: object\n",
            "0      001-730-9034\n",
            "1      001-537-5668\n",
            "2      001-880-7769\n",
            "3      001-491-3107\n",
            "4      001-718-3794\n",
            "           ...     \n",
            "995    001-522-8955\n",
            "996        No Phone\n",
            "997    001-391-4565\n",
            "998    001-668-6307\n",
            "999    001-226-7265\n",
            "Name: Customer Phone, Length: 1000, dtype: object\n"
          ]
        }
      ]
    },
    {
      "cell_type": "code",
      "source": [
        "print(df.isnull().sum())"
      ],
      "metadata": {
        "colab": {
          "base_uri": "https://localhost:8080/"
        },
        "id": "2xfm7qlcNbrx",
        "outputId": "5b4e83df-d24d-46af-e14a-ea73009da10c"
      },
      "execution_count": null,
      "outputs": [
        {
          "output_type": "stream",
          "name": "stdout",
          "text": [
            "Booking ID         0\n",
            "Customer ID        0\n",
            "Customer Name      0\n",
            "Booking Type       0\n",
            "Booking Date       0\n",
            "Status             0\n",
            "Class Type         0\n",
            "Instructor         0\n",
            "Time Slot          0\n",
            "Duration (mins)    0\n",
            "Price              0\n",
            "Facility           0\n",
            "Theme              0\n",
            "Service Name       0\n",
            "Service Type       0\n",
            "Customer Email     0\n",
            "Customer Phone     0\n",
            "dtype: int64\n"
          ]
        }
      ]
    },
    {
      "cell_type": "markdown",
      "source": [
        "**Step 4: Feature Engineering**"
      ],
      "metadata": {
        "id": "Y6ip36IUON1c"
      }
    },
    {
      "cell_type": "code",
      "source": [
        "# add derived columns for deeper analysis\n",
        "df[\"Booking Month\"]= df['Booking Date'].dt.month\n",
        "df[\"Booking Day\"]= df['Booking Date'].dt.day\n",
        "df[\"Booking Year\"]= df['Booking Date'].dt.year\n",
        "print(df['Booking Month'])"
      ],
      "metadata": {
        "colab": {
          "base_uri": "https://localhost:8080/"
        },
        "id": "MceAo7HrOSGG",
        "outputId": "0cb84044-b68d-4e7a-98f8-201dcda23b3b"
      },
      "execution_count": null,
      "outputs": [
        {
          "output_type": "stream",
          "name": "stdout",
          "text": [
            "0      5\n",
            "1      5\n",
            "2      5\n",
            "3      6\n",
            "4      4\n",
            "      ..\n",
            "995    5\n",
            "996    5\n",
            "997    4\n",
            "998    5\n",
            "999    5\n",
            "Name: Booking Month, Length: 1000, dtype: int32\n"
          ]
        }
      ]
    },
    {
      "cell_type": "code",
      "source": [
        "# categorize prices into tiers like low, medium, high\n",
        "df['Price Tier']=pd.cut(df['Price'], bins=[0,50,150,np.inf], labels=['Low', 'Medium', 'High'])\n",
        "print(df['Price Tier'])"
      ],
      "metadata": {
        "colab": {
          "base_uri": "https://localhost:8080/"
        },
        "id": "8W21fmwvPZXZ",
        "outputId": "aaef01be-4f35-40a3-83cf-5b4924f4c818"
      },
      "execution_count": null,
      "outputs": [
        {
          "output_type": "stream",
          "name": "stdout",
          "text": [
            "0         Low\n",
            "1        High\n",
            "2        High\n",
            "3        High\n",
            "4        High\n",
            "        ...  \n",
            "995    Medium\n",
            "996    Medium\n",
            "997      High\n",
            "998      High\n",
            "999    Medium\n",
            "Name: Price Tier, Length: 1000, dtype: category\n",
            "Categories (3, object): ['Low' < 'Medium' < 'High']\n"
          ]
        }
      ]
    },
    {
      "cell_type": "markdown",
      "source": [
        "**Step 5: exploratory Data Analysis (EDA)**"
      ],
      "metadata": {
        "id": "c64ODEi-P6Ri"
      }
    },
    {
      "cell_type": "code",
      "source": [
        "# total revenue\n",
        "total_revenue=df['Price'].sum()\n",
        "print(f\"Total Revenue: ${total_revenue:,.2f}\")\n",
        "print()\n",
        "\n",
        "# revenue by booking type\n",
        "revenue_by_type=df.groupby('Booking Type')['Price'].sum()\n",
        "print(revenue_by_type)"
      ],
      "metadata": {
        "colab": {
          "base_uri": "https://localhost:8080/"
        },
        "id": "rJSC2WiFP_vZ",
        "outputId": "7722937f-f0ea-4470-c3d1-33b0911eabea"
      },
      "execution_count": null,
      "outputs": [
        {
          "output_type": "stream",
          "name": "stdout",
          "text": [
            "Total Revenue: $139,477.21\n",
            "\n",
            "Booking Type\n",
            "Birthday Party    45141.66\n",
            "Class             45566.38\n",
            "Facility          48769.17\n",
            "Name: Price, dtype: float64\n"
          ]
        }
      ]
    },
    {
      "cell_type": "code",
      "source": [
        "# avg booking duration\n",
        "avg_duration=df['Duration (mins)'].mean()\n",
        "print(f\"Average Booking Duration: {avg_duration:.2f} minutes\")\n",
        "print()\n",
        "\n",
        "# count of bookings by status\n",
        "booking_status=df['Status'].value_counts()\n",
        "print(booking_status)"
      ],
      "metadata": {
        "colab": {
          "base_uri": "https://localhost:8080/"
        },
        "id": "UmPcllYZQzYS",
        "outputId": "d7caa910-6e46-4e0b-86f8-7308a7794b2d"
      },
      "execution_count": null,
      "outputs": [
        {
          "output_type": "stream",
          "name": "stdout",
          "text": [
            "Average Booking Duration: 85.56 minutes\n",
            "\n",
            "Status\n",
            "Pending      510\n",
            "Confirmed    490\n",
            "Name: count, dtype: int64\n"
          ]
        }
      ]
    },
    {
      "cell_type": "code",
      "source": [
        "# monthly revenue trends\n",
        "monthly_revenue=df.groupby('Booking Month')['Price'].sum()\n",
        "print(monthly_revenue)\n",
        "monthly_revenue.plot(kind=\"bar\", title=\"Monthly Revenue\")"
      ],
      "metadata": {
        "colab": {
          "base_uri": "https://localhost:8080/",
          "height": 588
        },
        "id": "jNFvE_FmUHCn",
        "outputId": "fdebfe07-2eb7-498a-d745-9cdbe475eef7"
      },
      "execution_count": null,
      "outputs": [
        {
          "output_type": "stream",
          "name": "stdout",
          "text": [
            "Booking Month\n",
            "3    11550.86\n",
            "4    46692.01\n",
            "5    45389.75\n",
            "6    35844.59\n",
            "Name: Price, dtype: float64\n"
          ]
        },
        {
          "output_type": "execute_result",
          "data": {
            "text/plain": [
              "<Axes: title={'center': 'Monthly Revenue'}, xlabel='Booking Month'>"
            ]
          },
          "metadata": {},
          "execution_count": 21
        },
        {
          "output_type": "display_data",
          "data": {
            "text/plain": [
              "<Figure size 640x480 with 1 Axes>"
            ],
            "image/png": "[encoded data removed]"
          },
          "metadata": {}
        }
      ]
    },
    {
      "cell_type": "code",
      "source": [
        "import matplotlib.pyplot as plt\n",
        "import seaborn as sns\n",
        "\n",
        "# Plot booking status distribution\n",
        "sns.countplot(data=df, x=\"Status\")\n",
        "plt.title(\"Booking Status Distribution\")\n",
        "plt.show()\n",
        "\n",
        "# Boxplot of price by booking type\n",
        "sns.boxplot(data=df, x=\"Booking Type\", y=\"Price\")\n",
        "plt.xticks(rotation=45)\n",
        "plt.show()"
      ],
      "metadata": {
        "colab": {
          "base_uri": "https://localhost:8080/",
          "height": 971
        },
        "id": "1ioN601bVepC",
        "outputId": "a7203c67-6bdf-42dd-dd28-fe20a6e5b5d9"
      },
      "execution_count": null,
      "outputs": [
        {
          "output_type": "display_data",
          "data": {
            "text/plain": [
              "<Figure size 640x480 with 1 Axes>"
            ],
            "image/png": "[encoded data removed]"
          },
          "metadata": {}
        },
        {
          "output_type": "display_data",
          "data": {
            "text/plain": [
              "<Figure size 640x480 with 1 Axes>"
            ],
            "image/png": "[encoded data removed]"
          },
          "metadata": {}
        }
      ]
    },
    {
      "cell_type": "markdown",
      "source": [
        "**Step 6: Advanced Analysis**"
      ],
      "metadata": {
        "id": "vuxh53z_WpAf"
      }
    },
    {
      "cell_type": "code",
      "source": [
        "# outlier detection for price\n",
        "sns.boxenplot(data=df, y=\"Price\")\n",
        "plt.title(\"Price Distribution\")\n",
        "plt.show()"
      ],
      "metadata": {
        "colab": {
          "base_uri": "https://localhost:8080/",
          "height": 433
        },
        "id": "8q8udbi0Wtl0",
        "outputId": "ccdcc870-899f-4bd8-d5c5-4e81a5b18f09"
      },
      "execution_count": null,
      "outputs": [
        {
          "output_type": "display_data",
          "data": {
            "text/plain": [
              "<Figure size 640x480 with 1 Axes>"
            ],
            "image/png": "[encoded data removed]"
          },
          "metadata": {}
        }
      ]
    },
    {
      "cell_type": "code",
      "source": [
        "# top customers by spending\n",
        "top_customers = df.groupby(\"Customer Name\")[\"Price\"].sum().nlargest(10)\n",
        "print(top_customers)"
      ],
      "metadata": {
        "colab": {
          "base_uri": "https://localhost:8080/"
        },
        "id": "R8fP6hIDXUKz",
        "outputId": "af7ee10a-09be-4356-94e9-6c33ea0b4755"
      },
      "execution_count": null,
      "outputs": [
        {
          "output_type": "stream",
          "name": "stdout",
          "text": [
            "Customer Name\n",
            "Customer 73     299.76\n",
            "Customer 709    299.62\n",
            "Customer 521    299.29\n",
            "Customer 324    299.14\n",
            "Customer 51     299.05\n",
            "Customer 382    298.75\n",
            "Customer 28     298.54\n",
            "Customer 528    298.15\n",
            "Customer 84     298.04\n",
            "Customer 626    297.45\n",
            "Name: Price, dtype: float64\n"
          ]
        }
      ]
    },
    {
      "cell_type": "markdown",
      "source": [
        "**Step 7 : Export cleaned data for interactive dashboard**"
      ],
      "metadata": {
        "id": "tCd9y80QXvWF"
      }
    },
    {
      "cell_type": "code",
      "source": [
        "df.to_csv(\"cleaned_bookings_data.csv\", index=False)"
      ],
      "metadata": {
        "id": "fZLMJYYjX07X"
      },
      "execution_count": null,
      "outputs": []
    },
    {
      "cell_type": "markdown",
      "source": [
        "Some key questions that we can explore based on the dataset"
      ],
      "metadata": {
        "id": "qsiS4aAvX7UD"
      }
    },
    {
      "cell_type": "code",
      "source": [
        "# which booking type generate the most revenue\n",
        "revenue_by_type=df.groupby(\"Booking Type\")['Price'].sum()\n",
        "print(revenue_by_type)"
      ],
      "metadata": {
        "colab": {
          "base_uri": "https://localhost:8080/"
        },
        "id": "LZ5FTX2qX_1p",
        "outputId": "b0306ffe-961a-4c5c-ae73-f419e1eb62d3"
      },
      "execution_count": null,
      "outputs": [
        {
          "output_type": "stream",
          "name": "stdout",
          "text": [
            "Booking Type\n",
            "Birthday Party    45141.66\n",
            "Class             45566.38\n",
            "Facility          48769.17\n",
            "Name: Price, dtype: float64\n"
          ]
        }
      ]
    },
    {
      "cell_type": "code",
      "source": [
        "# do certain themes attract more customers?\n",
        "theme_counts = df[df['Theme'] != 'None']['Theme'].value_counts() # excluding none\n",
        "theme_avg_price = df[df['Theme'] != 'None'].groupby('Theme')['Price'].mean().sort_values(ascending=False)\n",
        "\n",
        "\n",
        "print(\"\\nTop Themes by Bookings\")\n",
        "print(theme_counts.head(5).to_string())\n",
        "\n",
        "print(\"\\nTop Themes by Average Price\")\n",
        "print(theme_avg_price.head(3).to_string())"
      ],
      "metadata": {
        "colab": {
          "base_uri": "https://localhost:8080/"
        },
        "id": "UG0IlJ0oYoJ9",
        "outputId": "782a8e62-0e23-45ae-ab51-8860affe0fe3"
      },
      "execution_count": null,
      "outputs": [
        {
          "output_type": "stream",
          "name": "stdout",
          "text": [
            "\n",
            "Top Themes by Bookings\n",
            "Theme\n",
            "Superhero    94\n",
            "Sports       93\n",
            "Princess     86\n",
            "\n",
            "Top Themes by Average Price\n",
            "Theme\n",
            "Princess     146.935233\n",
            "Superhero    136.112340\n",
            "Sports       129.669892\n"
          ]
        }
      ]
    }
  ]
}